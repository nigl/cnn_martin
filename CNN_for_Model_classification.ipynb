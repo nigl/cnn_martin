{
 "cells": [
  {
   "cell_type": "markdown",
   "metadata": {},
   "source": [
    "# CNN zur Modelerkennung\n",
    "@Martin Kraus\n"
   ]
  },
  {
   "cell_type": "code",
   "execution_count": 406,
   "metadata": {
    "collapsed": true
   },
   "outputs": [],
   "source": [
    "##eigentliches CNN\n",
    "import tensorflow as tf\n",
    "import numpy as np\n",
    "import matplotlib.pyplot as plt\n",
    "from sklearn.preprocessing import LabelBinarizer\n",
    "import os\n",
    "%matplotlib inline\n",
    "%config InlineBackend.figure_format = 'retina'\n",
    "input_dir = 'C:/Users/Martin/Untitled Folder 1/'\n",
    "\n",
    "directories = os.listdir(input_dir)\n"
   ]
  },
  {
   "cell_type": "code",
   "execution_count": 407,
   "metadata": {
    "collapsed": true
   },
   "outputs": [],
   "source": [
    "#load preloaded data\n",
    "images = np.load('X_train.npy') #Saving train image arrays\n",
    "labels = np.load('Y_train.npy')#Saving train labels)"
   ]
  },
  {
   "cell_type": "code",
   "execution_count": 408,
   "metadata": {},
   "outputs": [
    {
     "data": {
      "text/plain": [
       "(995, 32, 32, 3)"
      ]
     },
     "execution_count": 408,
     "metadata": {},
     "output_type": "execute_result"
    }
   ],
   "source": [
    "np.shape(images)\n",
    "#plt.imshow(images[0])"
   ]
  },
  {
   "cell_type": "code",
   "execution_count": 409,
   "metadata": {},
   "outputs": [
    {
     "data": {
      "text/plain": [
       "(995, 32, 32, 3)"
      ]
     },
     "execution_count": 409,
     "metadata": {},
     "output_type": "execute_result"
    }
   ],
   "source": [
    "np.shape(images)\n",
    "#test_images= images\n",
    "#images =np.reshape(test_images, [1007,32,32,3])\n",
    "#np.shape(test_images)"
   ]
  },
  {
   "cell_type": "code",
   "execution_count": 410,
   "metadata": {
    "collapsed": true
   },
   "outputs": [],
   "source": [
    "#normalise images\n",
    "def normalize(x):\n",
    "    \"\"\"\n",
    "    Normalize a list of sample image data in the range of 0 to 1\n",
    "    : x: List of image data.  The image shape is (32, 32, 3)\n",
    "    : return: Numpy array of normalize data\n",
    "    \"\"\"\n",
    " # TODO: Implement Function\n",
    "    x_min = np.min(x)\n",
    "    x_max = np.max(x)\n",
    "    return (x - x_min) / (x_max - x_min)  \n",
    "\n"
   ]
  },
  {
   "cell_type": "code",
   "execution_count": 411,
   "metadata": {
    "collapsed": true
   },
   "outputs": [],
   "source": [
    "#normalize images\n",
    "images = normalize(images)"
   ]
  },
  {
   "cell_type": "code",
   "execution_count": 412,
   "metadata": {
    "collapsed": true
   },
   "outputs": [],
   "source": [
    "from sklearn.preprocessing import LabelBinarizer\n",
    "from sklearn.preprocessing import OneHotEncoder\n",
    "\n",
    "isEncoded = False\n",
    "enc = OneHotEncoder()\n",
    "\n",
    "def one_hot_encode(x):\n",
    "    \"\"\"\n",
    "    One hot encode a list of sample labels. Return a one-hot encoded vector for each label.\n",
    "    : x: List of sample Labels\n",
    "    : return: Numpy array of one-hot encoded labels\n",
    "    \"\"\"\n",
    "    global isEncoded\n",
    "    \n",
    "    if not isEncoded:\n",
    "        enc.fit(x)  \n",
    "        \n",
    "        \n",
    "    return enc.transform(x).toarray()\n"
   ]
  },
  {
   "cell_type": "code",
   "execution_count": 413,
   "metadata": {
    "collapsed": true
   },
   "outputs": [],
   "source": [
    "from sklearn.preprocessing import OneHotEncoder\n",
    "#enc_2 = OneHotEncoder()\n",
    "#enc_2.fit(labels)  \n",
    "#enc_2.transform(labels).toarray()\n"
   ]
  },
  {
   "cell_type": "code",
   "execution_count": null,
   "metadata": {
    "collapsed": true
   },
   "outputs": [],
   "source": []
  },
  {
   "cell_type": "code",
   "execution_count": null,
   "metadata": {
    "collapsed": true
   },
   "outputs": [],
   "source": []
  },
  {
   "cell_type": "code",
   "execution_count": 414,
   "metadata": {
    "collapsed": true
   },
   "outputs": [],
   "source": [
    "labels = one_hot_encode(labels)"
   ]
  },
  {
   "cell_type": "code",
   "execution_count": 415,
   "metadata": {},
   "outputs": [
    {
     "name": "stdout",
     "output_type": "stream",
     "text": [
      "[  0   1   2   3   4   5   6   7   8   9  10  11  12  13  14  15  16  17\n",
      "  18  19  20  21  22  23  24  25  26  27  28  29  30  31  32  33  34  35\n",
      "  36  37  38  39  40  41  42  43  44  45  46  47  48  49  50  51  52  53\n",
      "  54  55  56  57  58  59  60  61  62  63  64  65  66  67  68  69  70  71\n",
      "  72  73  74  75  76  77  78  79  80  81  82  83  84  85  86  87  88  89\n",
      "  90  91  92  93  94  95  96  97  98  99 100 101 102 103 104 105 106 107\n",
      " 108 109 110 111 112 113 114 115 116 117 118 119 120 121 122 123 124 125\n",
      " 126 127 128 129 130 131 132 133 134 135 136 137 138 139 140 141 142 143\n",
      " 144 145 146 147 148 149 150 151 152 153 154 155 156 157 158 159 160 161\n",
      " 162 163 164 165 166 167 168 169 170 171 172 173 174 175 176 177 178 179\n",
      " 180 181 182 183 184 185 186 187 188 189 190 191 192 193 194 195 196 197\n",
      " 198 199 200 201 202 203 204 205 206 207 208 209 210 211 212 213 214 215\n",
      " 216 217 218 219 220 221 222 223 224 225 226 227 228 229 230 231 232 233\n",
      " 234 235 236 237 238 239 240 241 242 243 244 245 246 247 248 249 250 251\n",
      " 252 253 254 255 256 257 258 259 260 261 262 263 264 265 266 267 268 269\n",
      " 270 271 272 273 274 275 276 277 278 279 280 281 282 283 284 285 286 287\n",
      " 288 289 290 291 292 293 294 295 296 297 298 299 300 301 302 303 304 305\n",
      " 306 307 308 309 310 311 312 313 314 315 316 317 318 319 320 321 322 323\n",
      " 324 325 326 327 328 329 330 331 332 333 334 335 336 337 338 339 340 341\n",
      " 342 343 344 345 346 347 348 349 350 351 352 353 354 355 356 357 358 359\n",
      " 360 361 362 363 364 365 366 367 368 369 370 371 372 373 374 375 376 377\n",
      " 378 379 380 381 382 383 384 385 386 387 388 389 390 391 392 393 394 395\n",
      " 396 397 398 399 400 401 402 403 404 405 406 407 408 409 410 411 412 413\n",
      " 414 415 416 417 418 419 420 421 422 423 424 425 426 427 428 429 430 431\n",
      " 432 433 434 435 436 437 438 439 440 441 442 443 444 445 446 447 448 449\n",
      " 450 451 452 453 454 455 456 457 458 459 460 461 462 463 464 465 466 467\n",
      " 468 469 470 471 472 473 474 475 476 477 478 479 480 481 482 483 484 485\n",
      " 486 487 488 489 490 491 492 493 494 495 496 497 498 499 500 501 502 503\n",
      " 504 505 506 507 508 509 510 511 512 513 514 515 516 517 518 519 520 521\n",
      " 522 523 524 525 526 527 528 529 530 531 532 533 534 535 536 537 538 539\n",
      " 540 541 542 543 544 545 546 547 548 549 550 551 552 553 554 555 556 557\n",
      " 558 559 560 561 562 563 564 565 566 567 568 569 570 571 572 573 574 575\n",
      " 576 577 578 579 580 581 582 583 584 585 586 587 588 589 590 591 592 593\n",
      " 594 595 596 597 598 599 600 601 602 603 604 605 606 607 608 609 610 611\n",
      " 612 613 614 615 616 617 618 619 620 621 622 623 624 625 626 627 628 629\n",
      " 630 631 632 633 634 635 636 637 638 639 640 641 642 643 644 645 646 647\n",
      " 648 649 650 651 652 653 654 655 656 657 658 659 660 661 662 663 664 665\n",
      " 666 667 668 669 670 671 672 673 674 675 676 677 678 679 680 681 682 683\n",
      " 684 685 686 687 688 689 690 691 692 693 694 695 696 697 698 699 700 701\n",
      " 702 703 704 705 706 707 708 709 710 711 712 713 714 715 716 717 718 719\n",
      " 720 721 722 723 724 725 726 727 728 729 730 731 732 733 734 735 736 737\n",
      " 738 739 740 741 742 743 744 745 746 747 748 749 750 751 752 753 754 755\n",
      " 756 757 758 759 760 761 762 763 764 765 766 767 768 769 770 771 772 773\n",
      " 774 775 776 777 778 779 780 781 782 783 784 785 786 787 788 789 790 791\n",
      " 792 793 794 795 796 797 798 799 800 801 802 803 804 805 806 807 808 809\n",
      " 810 811 812 813 814 815 816 817 818 819 820 821 822 823 824 825 826 827\n",
      " 828 829 830 831 832 833 834 835 836 837 838 839 840 841 842 843 844 845\n",
      " 846 847 848 849 850 851 852 853 854 855 856 857 858 859 860 861 862 863\n",
      " 864 865 866 867 868 869 870 871 872 873 874 875 876 877 878 879 880 881\n",
      " 882 883 884 885 886 887 888 889 890 891 892 893 894 895 896 897 898 899\n",
      " 900 901 902 903 904 905 906 907 908 909 910 911 912 913 914 915 916 917\n",
      " 918 919 920 921 922 923 924 925 926 927 928 929 930 931 932 933 934 935\n",
      " 936 937 938 939 940 941 942 943 944 945 946 947 948 949 950 951 952 953\n",
      " 954 955 956 957 958 959 960 961 962 963 964 965 966 967 968 969 970 971\n",
      " 972 973 974 975 976 977 978 979 980 981 982 983 984 985 986 987 988 989\n",
      " 990 991 992 993 994]\n",
      "[185 631 937 881 981 748 850 385 626 698  72 475  59 106 869 945 427 376\n",
      " 305  14 161 644 217 575  39 287 141 749 815 940 801  69 125 844 656 764\n",
      " 804 495 721 677 487 630 228  56 392  63 673 927 974 526 789  88 589 312\n",
      " 236 901 824 453 633 648 435  36 683 148 977 902 525 396 918 381 761 817\n",
      " 224 237 608 215 501 898 279 516 497 101 652   7 894 777 549 733 836 847\n",
      " 566 223  53 724 579 730 456 605 330 891  86 522 230  79 819 542 372 990\n",
      " 108 118 833  23 532 578 685 281 831 524 678 515 638 886 441 434 691 251\n",
      " 598 418 340 983   9 982 347 473 489 132 404 978 843 963 653 481 388 854\n",
      " 976 258 205 448 465 313 518   5 466 712  44 966 166 717 620 750 603 136\n",
      " 829 531 233 455 672 225 681 350  54 711 949  13 971 131 781 191 592 159\n",
      " 402 451 538 959 373 512 632 553 438 825 628 798 470 812 627 425 289  90\n",
      " 262  51 508 754  42  66 146 853 491 878 766 308 739 351 594 703 755 309\n",
      " 979 139 222  22 905 787 670 212 859 585  75 409 241  81 887 858 149 153\n",
      "  49 600 521  45 433 378  89 234 543   8 327 514 660 911 668  21 171 447\n",
      "  84 197 199 876 778 571 762 363 220 452  92  71 965 227 391 430 689 326\n",
      " 476 968 483 484  25 194 368 616  48 701 896 994 606 431 415  62 369  99\n",
      " 860 960 861 728 115 559 599 179  61 474 208 621 541 793 500 890 729 952\n",
      " 509 201 671 814 405  98 398 443 112 655 643 877 202 155 321 134 152 271\n",
      " 760 536 849 692 584 639  12 165 200 642 231 403 799 428 102 247 238 297\n",
      " 727 564 274 511 242 932 842 570   6 738 127 291 229 333 855 142 885 657\n",
      " 457 928 278 273 897 360 504 629 958  80  17 365 240 916 371 461 534 872\n",
      " 967 210 383 664 422 985 706   0 345 852 116 722 783 380 151 935 550 343\n",
      "  35 920 834 875   2 602 601 432 304 580 533 962 718 180 397  64 923 779\n",
      " 782 419 837  31 723 948 593  58  52  34 399  41 282 193  78 320 992 172\n",
      " 209 557  26 665 548 769 163 756 244 715 827 265  28 436 757 344 389 513\n",
      " 458 864 666 184  73 684 805 207 386 583 808 529 624 919 568 561 658 674\n",
      " 143 110 537 573 243 614 694 574  67 346 354  96 270  37 841 377 239 444\n",
      " 410 913  33 613 213 807 348 931 486 651 407 104 577 214 731 640 597 704\n",
      " 794 741 922 277 467 591 182 493 582  29 186 909 503  95 338 196 669 482\n",
      " 797 111 820 906 292 510 263 488 176 253 334 469 295 130 109 164 775  11\n",
      " 884 560 280 192 359 156 426 370 315 740 393 539 468 135 735 154 625 747\n",
      "  19 709 169 695  32 254 339 950 498 569 506 828 276 567   4 663 540 107\n",
      "  85 763 138  87 420  46 647 145 686 480 122 449 645 325 946 332 870 527\n",
      " 450 158 177 816 904 770 555 773 190 736 596 607 636 969 765 216 650 563\n",
      " 290 114 296  20 838  76 803 821 286 556 337 355 576 667 128 710 687 173\n",
      " 168  83 300 972 893 552 394 707 623 248 113  77 517 551 811 780 611 203\n",
      " 257 442 758 129 830 961 361 411 267 745 319 260 895 809 547 245 502 408\n",
      " 301 924 942 954 679 413 907 317 986 382  16 437 785 198 851  15 264 221\n",
      " 472 791 401 953 284 581 395 615 944 767 318 137 934 494  94 255  74 991\n",
      " 675 790 612 545 856  10 743  55 699  18 285 951  70 964 445 956 412  50\n",
      " 725 826 492 528 353 329 889 696 646 759 987 294 520 786 266 867 331 863\n",
      " 268 464 424 356 800 989  43 387 558 857 160 941 324 120 933 459 888 562\n",
      " 478 218  93 126 802 554 649 810 288 900 610 925 634 178 272 796 121 162\n",
      " 306 170 328 818 150 771 753 776 910 250  60 936 726 364 117 822 261 883\n",
      " 204 390 737  65 690 310 732 832 174 980 546 835 440 973 680 379 588   3\n",
      " 195 414 485 302 930 572 908 259 275 400 421 507 609 879 772 823 103 975\n",
      " 439 299 293 384 181  68 873 175 619 335 140 211 519 499 915 590  24 124\n",
      " 993 357 871 947 845 874  91 226 688 471 792 406 311 955 714 256 617 375\n",
      " 926 752 719 813 523  47 929 708 188 868 641 362 751 342 774 505 133 307\n",
      " 446 105 840 477 806 235 463 316  40 349 366 744 144 914 252 595 768 734\n",
      " 637  27 784 167  57 604 846 742 429 298 622 866 460 157 618 535 635 423\n",
      " 697 912 917 119 565 417 970 921 123 654 862 938 988 147 720 544 283 189\n",
      " 676 943 693 705 269  97 462 746 374 882 206 939 659 903 795 323 892 479\n",
      " 586 865 246 661 183 700 341 314  82 303  38 682 880 187 788 232 416 848\n",
      " 957 367 587 716 249 219 358 899 713 322 984 496 530   1 662 839 336 702\n",
      " 490 454 100 352  30]\n"
     ]
    }
   ],
   "source": [
    "#randomize data\n",
    "order_vec = np.array(range(len(images)))\n",
    "#print(order_vec)\n",
    "np.random.shuffle(order_vec)\n",
    "#print(order_vec)\n",
    "\n",
    "images = images[order_vec]\n",
    "labels = labels[order_vec]"
   ]
  },
  {
   "cell_type": "code",
   "execution_count": null,
   "metadata": {
    "collapsed": true
   },
   "outputs": [],
   "source": []
  },
  {
   "cell_type": "code",
   "execution_count": 416,
   "metadata": {},
   "outputs": [
    {
     "name": "stdout",
     "output_type": "stream",
     "text": [
      "884\n",
      "111\n"
     ]
    }
   ],
   "source": [
    "#wähle Daten aus um nicht zu viele bilder mit model zu haben\n",
    "count = 0\n",
    "\n",
    "to_check = labels\n",
    "for i in range(len(to_check)):\n",
    "    if(to_check[i,0]==1):\n",
    "        count +=1\n",
    "print(count)\n",
    "count_0=0\n",
    "for i in range(len(to_check)):\n",
    "    if(to_check[i,0]==0):\n",
    "        count_0 +=1\n",
    "print(count_0)\n",
    "\n",
    "labels_1_index = labels[0:,0]==1\n",
    "labels_0_index = labels[0:,0]==0\n",
    "\n",
    "\n",
    "\n",
    "\n",
    "fifty_fifty_bool = True\n",
    "if fifty_fifty_bool == True:\n",
    "    test_images_0 = images[labels_0_index]\n",
    "    test_images_1 = images[labels_1_index][range(count_0)]\n",
    "    images = np.concatenate([test_images_0, test_images_1], axis=0)\n",
    "    test_labels_0 = labels[labels_0_index]\n",
    "    test_labels_1 = labels[labels_1_index][range(count_0)]\n",
    "    labels = np.concatenate([test_labels_0, test_labels_1], axis=0)\n"
   ]
  },
  {
   "cell_type": "code",
   "execution_count": 417,
   "metadata": {},
   "outputs": [
    {
     "name": "stdout",
     "output_type": "stream",
     "text": [
      "[  0   1   2   3   4   5   6   7   8   9  10  11  12  13  14  15  16  17\n",
      "  18  19  20  21  22  23  24  25  26  27  28  29  30  31  32  33  34  35\n",
      "  36  37  38  39  40  41  42  43  44  45  46  47  48  49  50  51  52  53\n",
      "  54  55  56  57  58  59  60  61  62  63  64  65  66  67  68  69  70  71\n",
      "  72  73  74  75  76  77  78  79  80  81  82  83  84  85  86  87  88  89\n",
      "  90  91  92  93  94  95  96  97  98  99 100 101 102 103 104 105 106 107\n",
      " 108 109 110 111 112 113 114 115 116 117 118 119 120 121 122 123 124 125\n",
      " 126 127 128 129 130 131 132 133 134 135 136 137 138 139 140 141 142 143\n",
      " 144 145 146 147 148 149 150 151 152 153 154 155 156 157 158 159 160 161\n",
      " 162 163 164 165 166 167 168 169 170 171 172 173 174 175 176 177 178 179\n",
      " 180 181 182 183 184 185 186 187 188 189 190 191 192 193 194 195 196 197\n",
      " 198 199 200 201 202 203 204 205 206 207 208 209 210 211 212 213 214 215\n",
      " 216 217 218 219 220 221]\n",
      "[220 100  88  26 198  45 106  67 113  58 135 148 173 202  21 133   5 170\n",
      " 116 121 186 207  17  80 213  19  77  83  66  33 187 216 204  53   0 105\n",
      "  81  79  82   2  36  78 152 179 192  11 188  87  49  16 172 112  74 118\n",
      " 158 126  54 156 214 174 142  48 144 176  43  51  10 132  52  60  94 134\n",
      " 129   6 177  63 199  15  57 205 123 221  55   1 193  23  38  35 122 160\n",
      "  20 130  41  99  71 209  47  70 102 131 168 154 103 201  13 166 169 114\n",
      " 219  27 196  50 111 191  25 171 217  61  85 109  95  76  86  92 215 101\n",
      " 110 147 181  24 140 117 137 125 194 212 143 153 164 149   9  93  31  96\n",
      "  75  56 108  44  39  12 208 124 138 167 161  84 175 127  42  65 189 107\n",
      " 162 200  73   8  69  32 136  46 190  62 115 211 203  40 141  72  29 139\n",
      "  34   4  64 163  30  22  89 150 210  18 184 157 195 218   3 178 145 128\n",
      " 155  97 151  59  14 119 180 104 146 182 197 120 159 165 206   7  98 185\n",
      "  90  37  28  91  68 183]\n"
     ]
    }
   ],
   "source": [
    "#randomize data\n",
    "order_vec = np.array(range(len(images)))\n",
    "#print(order_vec)\n",
    "np.random.shuffle(order_vec)\n",
    "#print(order_vec)\n",
    "\n",
    "images = images[order_vec]\n",
    "labels = labels[order_vec]"
   ]
  },
  {
   "cell_type": "code",
   "execution_count": 418,
   "metadata": {
    "collapsed": true
   },
   "outputs": [],
   "source": [
    "#split data in validation und train set\n",
    "train_proportion = 0.8\n",
    "train_indexes = range(int(train_proportion*len(images)))\n",
    "val_indexes = range(int(train_proportion*len(images))+1, len(images))\n",
    "train_images = images[train_indexes]\n",
    "train_labels = labels[train_indexes]\n",
    "valid_features = images[val_indexes]\n",
    "valid_labels = labels[val_indexes]"
   ]
  },
  {
   "cell_type": "code",
   "execution_count": null,
   "metadata": {
    "collapsed": true
   },
   "outputs": [],
   "source": []
  },
  {
   "cell_type": "code",
   "execution_count": 419,
   "metadata": {
    "collapsed": true
   },
   "outputs": [],
   "source": [
    "#baue batches\n",
    "def get_batches(batch_size):\n",
    "    batches_images = train_images[range(batch_size)]\n",
    "    batches_labels = train_labels[range(batch_size)]\n",
    "    return batches_images, batches_labels"
   ]
  },
  {
   "cell_type": "code",
   "execution_count": null,
   "metadata": {
    "collapsed": true
   },
   "outputs": [],
   "source": []
  },
  {
   "cell_type": "code",
   "execution_count": 420,
   "metadata": {
    "collapsed": true
   },
   "outputs": [],
   "source": [
    "def neural_net_image_input(image_shape):\n",
    "    \"\"\"\n",
    "    Return a Tensor for a bach of image input\n",
    "    : image_shape: Shape of the images\n",
    "    : return: Tensor for image input.\n",
    "    \"\"\"\n",
    "    # TODO: Implement Function\n",
    "    input = tf.placeholder(tf.float32, shape = [None, image_shape[0],image_shape[1],image_shape[2]], name = \"x\")\n",
    "    \n",
    "    return input\n",
    "\n",
    "\n",
    "def neural_net_label_input(n_classes):\n",
    "    \"\"\"\n",
    "    Return a Tensor for a batch of label input\n",
    "    : n_classes: Number of classes\n",
    "    : return: Tensor for label input.\n",
    "    \"\"\"\n",
    "    input = tf.placeholder(tf.float32, shape = [None, n_classes], name = \"y\")\n",
    "    #(None, 32, 32, 3))\n",
    "    return input\n",
    "\n",
    "def neural_net_keep_prob_input():\n",
    "    \"\"\"\n",
    "    Return a Tensor for keep probability\n",
    "    : return: Tensor for keep probability.\n",
    "    \"\"\"\n",
    "    input = tf.placeholder(tf.float32,  name = \"keep_prob\")\n",
    "    #(None, 32, 32, 3))\n",
    "    return input\n"
   ]
  },
  {
   "cell_type": "code",
   "execution_count": 421,
   "metadata": {
    "collapsed": true
   },
   "outputs": [],
   "source": [
    "def conv2d_maxpool(x_tensor, conv_num_outputs, conv_ksize, conv_strides, pool_ksize, pool_strides):\n",
    "    \"\"\"\n",
    "    Apply convolution then max pooling to x_tensor\n",
    "    :param x_tensor: TensorFlow Tensor\n",
    "    :param conv_num_outputs: Number of outputs for the convolutional layer\n",
    "    :param conv_ksize: kernal size 2-D Tuple for the convolutional layer\n",
    "    :param conv_strides: Stride 2-D Tuple for convolution\n",
    "    :param pool_ksize: kernal size 2-D Tuple for pool\n",
    "    :param pool_strides: Stride 2-D Tuple for pool\n",
    "    : return: A tensor that represents convolution and max pooling of x_tensor\n",
    "    \"\"\"\n",
    "    weight = tf.Variable(tf.truncated_normal([conv_ksize[0], conv_ksize[1],x_tensor.get_shape().as_list()[3], conv_num_outputs], \n",
    "                                             mean =0.0, stddev=0.1))\n",
    "    #out_height = int(np.ceil(float(x_tensor.get_shape().as_list()[1] - conv_ksize[0] + 1) / float(conv_strides[0]))) \n",
    "    #out_width  = int(np.ceil(float(x_tensor.get_shape().as_list()[2] - conv_ksize[1] + 1) / float(conv_strides[1])))\n",
    "    #print(out_width)\n",
    "    # weight = tf.Variable(tf.truncated_normal([out_height, out_width,x_tensor.get_shape().as_list()[3], conv_num_outputs], \n",
    "    #                                          mean =0.0, stddev=0.1))\n",
    "    #bias = tf.Variable(tf.random_normal([conv_num_outputs]))\n",
    "    bias = tf.Variable(tf.zeros([conv_num_outputs]))\n",
    "    conv_layer = tf.nn.conv2d(x_tensor, weight, strides=[1, conv_strides[0], conv_strides[1], 1], padding='SAME')\n",
    "    # Add bias\n",
    "    conv_layer = tf.nn.bias_add(conv_layer, bias)\n",
    "    # Apply activation function\n",
    "    conv_layer = tf.nn.relu(conv_layer)\n",
    "    conv_layer = tf.nn.max_pool(conv_layer, ksize=[1, pool_ksize[0], pool_ksize[1], 1],\n",
    "                                strides=[1, pool_strides[0], pool_strides[1], 1], padding='SAME')\n",
    "    \n",
    "    return conv_layer\n",
    "\n",
    "def flatten(x_tensor):\n",
    "    \"\"\"\n",
    "    Flatten x_tensor to (Batch Size, Flattened Image Size)\n",
    "    : x_tensor: A tensor of size (Batch Size, ...), where ... are the image dimensions.\n",
    "    : return: A tensor of size (Batch Size, Flattened Image Size).\n",
    "    \"\"\"\n",
    "    new_dimension = x_tensor.get_shape().as_list()[1]*x_tensor.get_shape().as_list()[2]*x_tensor.get_shape().as_list()[3]\n",
    "    flattened_tensor = tf.reshape(x_tensor,[-1, new_dimension ])\n",
    "    #print(flattened_tensor.shape)\n",
    "    return flattened_tensor\n",
    "\n",
    "def fully_conn(x_tensor, num_outputs):\n",
    "    \"\"\"\n",
    "    Apply a fully connected layer to x_tensor using weight and bias\n",
    "    : x_tensor: A 2-D tensor where the first dimension is batch size.\n",
    "    : num_outputs: The number of output that the new tensor should be.\n",
    "    : return: A 2-D tensor where the second dimension is num_outputs.\n",
    "    \"\"\"\n",
    "    weight = tf.Variable(tf.truncated_normal([x_tensor.get_shape().as_list()[1], num_outputs], mean =0.0,stddev=0.1))\n",
    "    \n",
    "    #bias = tf.Variable(tf.random_normal([num_outputs]))\n",
    "    bias = tf.Variable(tf.zeros([num_outputs]))\n",
    "    fully_layer = tf.add(tf.matmul(x_tensor, weight), bias)\n",
    "    fully_layer = tf.nn.relu(fully_layer)\n",
    "    \n",
    "    #return tf.contrib.layers.fully_connected(x_tensor, num_outputs, activation_fn=tf.nn.relu)\n",
    "    return fully_layer\n",
    "\n",
    "def output(x_tensor, num_outputs):\n",
    "    \"\"\"\n",
    "    Apply a output layer to x_tensor using weight and bias\n",
    "    : x_tensor: A 2-D tensor where the first dimension is batch size.\n",
    "    : num_outputs: The number of output that the new tensor should be.\n",
    "    : return: A 2-D tensor where the second dimension is num_outputs.\n",
    "    \"\"\"\n",
    "    weight = tf.Variable(tf.truncated_normal([x_tensor.get_shape().as_list()[1], num_outputs], mean =0.0,stddev=0.1))\n",
    "    \n",
    "    #bias = tf.Variable(tf.random_normal([num_outputs]))\n",
    "    bias = tf.Variable(tf.zeros([num_outputs]))\n",
    "    out_layer = tf.add(tf.matmul(x_tensor, weight), bias)\n",
    "    #out_layer = tf.nn.relu(out_layer)\n",
    "    return out_layer\n",
    "\n"
   ]
  },
  {
   "cell_type": "code",
   "execution_count": 422,
   "metadata": {
    "collapsed": true
   },
   "outputs": [],
   "source": [
    "def conv_net(x, keep_prob):\n",
    "    \"\"\"\n",
    "    Create a convolutional neural network model\n",
    "    : x: Placeholder tensor that holds image data.\n",
    "    : keep_prob: Placeholder tensor that hold dropout keep probability.\n",
    "    : return: Tensor that represents logits\n",
    "    \"\"\"\n",
    "    # TODO: Apply 1, 2, or 3 Convolution and Max Pool layers\n",
    "    #    Play around with different number of outputs, kernel size and stride\n",
    "    # Function Definition from Above:\n",
    "    #    conv2d_maxpool(x_tensor, conv_num_outputs, conv_ksize, conv_strides, pool_ksize, pool_strides)\n",
    "    conv_layer_1 = conv2d_maxpool(x, 64, [4,4], [2,2], [2,2], [2,2])\n",
    "    #shape 16,16,36\n",
    "    conv_layer_2 = conv2d_maxpool(conv_layer_1, 128, [4,4], [1,1], [2,2], [2,2])\n",
    "    #shape  8,8,128\n",
    "    #conv_layer_3 = conv2d_maxpool(conv_layer_2, 256, [3,3], [1,1], [1,1], [1,1])\n",
    "    # TODO: Apply a Flatten Layer\n",
    "    # Function Definition from Above:\n",
    "    #   flatten(x_tensor)\n",
    "    flatten_layer = flatten(conv_layer_2)\n",
    "    #flatten_layer = tf.nn.dropout(flatten_layer, keep_prob)\n",
    "    # TODO: Apply 1, 2, or 3 Fully Connected Layers\n",
    "    #    Play around with different number of outputs\n",
    "    # Function Definition from Above:\n",
    "    #   fully_conn(x_tensor, num_outputs)\n",
    "    fully_con_layer_1 = fully_conn(flatten_layer, 100)\n",
    "    fully_con_layer_1 = tf.nn.dropout(fully_con_layer_1, keep_prob)\n",
    "    fully_con_layer_2 = fully_conn(fully_con_layer_1, 50)\n",
    "    fully_con_layer_2 = tf.nn.dropout(fully_con_layer_2, keep_prob)\n",
    "    #fully_con_layer_3 = fully_conn(fully_con_layer_2, 50)\n",
    "    # TODO: Apply an Output Layer\n",
    "    #    Set this to the number of classes\n",
    "    # Function Definition from Above:\n",
    "    #   output(x_tensor, num_outputs)\n",
    "    output_layer = output(fully_con_layer_2, nr_of_labels)\n",
    "    \n",
    "    # TODO: return output\n",
    "    return output_layer\n",
    "\n"
   ]
  },
  {
   "cell_type": "code",
   "execution_count": 423,
   "metadata": {
    "collapsed": true
   },
   "outputs": [],
   "source": [
    "nr_of_labels =2"
   ]
  },
  {
   "cell_type": "code",
   "execution_count": 424,
   "metadata": {
    "collapsed": true
   },
   "outputs": [],
   "source": [
    "tf.reset_default_graph()\n",
    "\n",
    "# Inputs\n",
    "x = neural_net_image_input((32, 32, 3))\n",
    "y = neural_net_label_input(2)\n",
    "keep_prob = neural_net_keep_prob_input()\n",
    "\n",
    "# Model\n",
    "logits = conv_net(x, keep_prob)\n",
    "\n",
    "# Name logits Tensor, so that is can be loaded from disk after training\n",
    "logits = tf.identity(logits, name='logits')\n",
    "\n",
    "# Loss and Optimizer\n",
    "cost = tf.reduce_mean(tf.nn.softmax_cross_entropy_with_logits(logits=logits, labels=y))\n",
    "optimizer = tf.train.AdamOptimizer().minimize(cost)\n",
    "\n",
    "# Accuracy\n",
    "correct_pred = tf.equal(tf.argmax(logits, 1), tf.argmax(y, 1))\n",
    "accuracy = tf.reduce_mean(tf.cast(correct_pred, tf.float32), name='accuracy')\n"
   ]
  },
  {
   "cell_type": "code",
   "execution_count": 425,
   "metadata": {
    "collapsed": true
   },
   "outputs": [],
   "source": [
    "def train_neural_network(session, optimizer, keep_probability, feature_batch, label_batch):\n",
    "    \"\"\"\n",
    "    Optimize the session on a batch of images and labels\n",
    "    : session: Current TensorFlow session\n",
    "    : optimizer: TensorFlow optimizer function\n",
    "    : keep_probability: keep probability\n",
    "    : feature_batch: Batch of Numpy image data\n",
    "    : label_batch: Batch of Numpy label data\n",
    "    \"\"\"\n",
    "    session.run(optimizer, feed_dict={x: feature_batch, y: label_batch, keep_prob: keep_probability})\n",
    "   \n",
    "    pass\n",
    "def print_stats(session, feature_batch, label_batch, cost, accuracy):\n",
    "    \"\"\"\n",
    "    Print information about loss and validation accuracy\n",
    "    : session: Current TensorFlow session\n",
    "    : feature_batch: Batch of Numpy image data\n",
    "    : label_batch: Batch of Numpy label data\n",
    "    : cost: TensorFlow cost function\n",
    "    : accuracy: TensorFlow accuracy function\n",
    "    \"\"\"\n",
    "    loss = session.run(cost, feed_dict={x: feature_batch, y: label_batch, keep_prob: 1.0})\n",
    "    valid_acc = session.run(accuracy, feed_dict={x: valid_features, y: valid_labels, keep_prob: 1.0})\n",
    "    print('Loss at {}'.format(loss), 'Validation Accuracy at {}'.format(valid_acc))\n",
    "   "
   ]
  },
  {
   "cell_type": "code",
   "execution_count": 426,
   "metadata": {
    "collapsed": true
   },
   "outputs": [],
   "source": [
    "# TODO: Tune Parameters\n",
    "epochs = 50\n",
    "batch_size = 128\n",
    "keep_probability = 0.6"
   ]
  },
  {
   "cell_type": "code",
   "execution_count": 427,
   "metadata": {},
   "outputs": [
    {
     "name": "stdout",
     "output_type": "stream",
     "text": [
      "0.5454545454545454\n"
     ]
    }
   ],
   "source": [
    "count = 0\n",
    "\n",
    "to_check = valid_labels\n",
    "for i in range(len(to_check)):\n",
    "    if(to_check[i,0]==1):\n",
    "        count +=1\n",
    "        \n",
    "print(count/len(to_check))"
   ]
  },
  {
   "cell_type": "code",
   "execution_count": 428,
   "metadata": {},
   "outputs": [
    {
     "name": "stdout",
     "output_type": "stream",
     "text": [
      "Checking the Training on a Single Batch...\n",
      "Epoch  1, CIFAR-10 Batch 1:  Loss at 1.078268051147461 Validation Accuracy at 0.4545454680919647\n",
      "Epoch  2, CIFAR-10 Batch 1:  Loss at 0.6226668357849121 Validation Accuracy at 0.47727271914482117\n",
      "Epoch  3, CIFAR-10 Batch 1:  Loss at 0.6590913534164429 Validation Accuracy at 0.5909090638160706\n",
      "Epoch  4, CIFAR-10 Batch 1:  Loss at 0.6290079355239868 Validation Accuracy at 0.6136363744735718\n",
      "Epoch  5, CIFAR-10 Batch 1:  Loss at 0.612542986869812 Validation Accuracy at 0.9545454382896423\n",
      "Epoch  6, CIFAR-10 Batch 1:  Loss at 0.6091745495796204 Validation Accuracy at 0.6363636255264282\n",
      "Epoch  7, CIFAR-10 Batch 1:  Loss at 0.596767008304596 Validation Accuracy at 0.8863636255264282\n",
      "Epoch  8, CIFAR-10 Batch 1:  Loss at 0.5900323987007141 Validation Accuracy at 0.9318181872367859\n",
      "Epoch  9, CIFAR-10 Batch 1:  Loss at 0.5845392942428589 Validation Accuracy at 0.9090909361839294\n",
      "Epoch 10, CIFAR-10 Batch 1:  Loss at 0.5782239437103271 Validation Accuracy at 0.9090909361839294\n",
      "Epoch 11, CIFAR-10 Batch 1:  Loss at 0.5608611702919006 Validation Accuracy at 0.9318181872367859\n",
      "Epoch 12, CIFAR-10 Batch 1:  Loss at 0.5460914373397827 Validation Accuracy at 0.8863636255264282\n",
      "Epoch 13, CIFAR-10 Batch 1:  Loss at 0.5312604308128357 Validation Accuracy at 0.8409090638160706\n",
      "Epoch 14, CIFAR-10 Batch 1:  Loss at 0.5102517604827881 Validation Accuracy at 0.8863636255264282\n",
      "Epoch 15, CIFAR-10 Batch 1:  Loss at 0.4836655855178833 Validation Accuracy at 0.9318181872367859\n",
      "Epoch 16, CIFAR-10 Batch 1:  Loss at 0.4556095004081726 Validation Accuracy at 0.9545454382896423\n",
      "Epoch 17, CIFAR-10 Batch 1:  Loss at 0.43908289074897766 Validation Accuracy at 0.9090909361839294\n",
      "Epoch 18, CIFAR-10 Batch 1:  Loss at 0.4127803444862366 Validation Accuracy at 0.9090909361839294\n",
      "Epoch 19, CIFAR-10 Batch 1:  Loss at 0.37220126390457153 Validation Accuracy at 0.9545454382896423\n",
      "Epoch 20, CIFAR-10 Batch 1:  Loss at 0.34596914052963257 Validation Accuracy at 0.9318181872367859\n",
      "Epoch 21, CIFAR-10 Batch 1:  Loss at 0.3183683753013611 Validation Accuracy at 0.9318181872367859\n",
      "Epoch 22, CIFAR-10 Batch 1:  Loss at 0.28366684913635254 Validation Accuracy at 0.9545454382896423\n",
      "Epoch 23, CIFAR-10 Batch 1:  Loss at 0.26824283599853516 Validation Accuracy at 0.9318181872367859\n",
      "Epoch 24, CIFAR-10 Batch 1:  Loss at 0.24678927659988403 Validation Accuracy at 0.9545454382896423\n",
      "Epoch 25, CIFAR-10 Batch 1:  Loss at 0.2257637083530426 Validation Accuracy at 0.9545454382896423\n",
      "Epoch 26, CIFAR-10 Batch 1:  Loss at 0.20741595327854156 Validation Accuracy at 0.9545454382896423\n",
      "Epoch 27, CIFAR-10 Batch 1:  Loss at 0.17429374158382416 Validation Accuracy at 0.9545454382896423\n",
      "Epoch 28, CIFAR-10 Batch 1:  Loss at 0.15256060659885406 Validation Accuracy at 0.9545454382896423\n",
      "Epoch 29, CIFAR-10 Batch 1:  Loss at 0.13347676396369934 Validation Accuracy at 0.9545454382896423\n",
      "Epoch 30, CIFAR-10 Batch 1:  Loss at 0.11784488707780838 Validation Accuracy at 0.9545454382896423\n",
      "Epoch 31, CIFAR-10 Batch 1:  Loss at 0.10198447108268738 Validation Accuracy at 0.9545454382896423\n",
      "Epoch 32, CIFAR-10 Batch 1:  Loss at 0.0861387550830841 Validation Accuracy at 0.9545454382896423\n",
      "Epoch 33, CIFAR-10 Batch 1:  Loss at 0.07337772846221924 Validation Accuracy at 0.9545454382896423\n",
      "Epoch 34, CIFAR-10 Batch 1:  Loss at 0.062178369611501694 Validation Accuracy at 0.9545454382896423\n",
      "Epoch 35, CIFAR-10 Batch 1:  Loss at 0.05467458441853523 Validation Accuracy at 0.9545454382896423\n",
      "Epoch 36, CIFAR-10 Batch 1:  Loss at 0.04914160445332527 Validation Accuracy at 0.9545454382896423\n",
      "Epoch 37, CIFAR-10 Batch 1:  Loss at 0.03992551565170288 Validation Accuracy at 0.9545454382896423\n",
      "Epoch 38, CIFAR-10 Batch 1:  Loss at 0.035072412341833115 Validation Accuracy at 0.9545454382896423\n",
      "Epoch 39, CIFAR-10 Batch 1:  Loss at 0.028078429400920868 Validation Accuracy at 0.9545454382896423\n",
      "Epoch 40, CIFAR-10 Batch 1:  Loss at 0.025075364857912064 Validation Accuracy at 0.9545454382896423\n",
      "Epoch 41, CIFAR-10 Batch 1:  Loss at 0.021370606496930122 Validation Accuracy at 0.9545454382896423\n",
      "Epoch 42, CIFAR-10 Batch 1:  Loss at 0.017660144716501236 Validation Accuracy at 0.9545454382896423\n",
      "Epoch 43, CIFAR-10 Batch 1:  Loss at 0.018171902745962143 Validation Accuracy at 0.9545454382896423\n",
      "Epoch 44, CIFAR-10 Batch 1:  Loss at 0.015724724158644676 Validation Accuracy at 0.9545454382896423\n",
      "Epoch 45, CIFAR-10 Batch 1:  Loss at 0.013995343819260597 Validation Accuracy at 0.9545454382896423\n",
      "Epoch 46, CIFAR-10 Batch 1:  Loss at 0.009966823272407055 Validation Accuracy at 0.9545454382896423\n",
      "Epoch 47, CIFAR-10 Batch 1:  Loss at 0.00815819762647152 Validation Accuracy at 0.9545454382896423\n",
      "Epoch 48, CIFAR-10 Batch 1:  Loss at 0.00822435598820448 Validation Accuracy at 0.9545454382896423\n",
      "Epoch 49, CIFAR-10 Batch 1:  Loss at 0.006202083081007004 Validation Accuracy at 0.9545454382896423\n",
      "Epoch 50, CIFAR-10 Batch 1:  Loss at 0.005292184185236692 Validation Accuracy at 0.9545454382896423\n"
     ]
    }
   ],
   "source": [
    "print('Checking the Training on a Single Batch...')\n",
    "with tf.Session() as sess:\n",
    "    # Initializing the variables\n",
    "    sess.run(tf.global_variables_initializer())\n",
    "    \n",
    "    # Training cycle\n",
    "    for epoch in range(epochs):\n",
    "        batch_i = 1\n",
    "        batch_features, batch_labels = get_batches(batch_size)\n",
    "        train_neural_network(sess, optimizer, keep_probability, batch_features, batch_labels)\n",
    "        print('Epoch {:>2}, Witt-Model-classifier Batch {}:  '.format(epoch + 1, batch_i), end='')\n",
    "        print_stats(sess, batch_features, batch_labels, cost, accuracy)"
   ]
  },
  {
   "cell_type": "code",
   "execution_count": 429,
   "metadata": {},
   "outputs": [
    {
     "name": "stdout",
     "output_type": "stream",
     "text": [
      "Training...\n",
      "Epoch  1, CIFAR-10 Batch 1:  Loss at 0.6586146354675293 Validation Accuracy at 0.5454545617103577\n",
      "Epoch  2, CIFAR-10 Batch 1:  Loss at 0.6274292469024658 Validation Accuracy at 0.7045454382896423\n",
      "Epoch  3, CIFAR-10 Batch 1:  Loss at 0.6202279329299927 Validation Accuracy at 0.8636363744735718\n",
      "Epoch  4, CIFAR-10 Batch 1:  Loss at 0.6039412021636963 Validation Accuracy at 0.7272727489471436\n",
      "Epoch  5, CIFAR-10 Batch 1:  Loss at 0.5702357292175293 Validation Accuracy at 0.9090909361839294\n",
      "Epoch  6, CIFAR-10 Batch 1:  Loss at 0.5655685663223267 Validation Accuracy at 0.6818181872367859\n",
      "Epoch  7, CIFAR-10 Batch 1:  Loss at 0.526997447013855 Validation Accuracy at 0.75\n",
      "Epoch  8, CIFAR-10 Batch 1:  Loss at 0.4871102571487427 Validation Accuracy at 0.9545454382896423\n",
      "Epoch  9, CIFAR-10 Batch 1:  Loss at 0.4516737461090088 Validation Accuracy at 0.9090909361839294\n",
      "Epoch 10, CIFAR-10 Batch 1:  Loss at 0.43324145674705505 Validation Accuracy at 0.9545454382896423\n",
      "Epoch 11, CIFAR-10 Batch 1:  Loss at 0.4232521057128906 Validation Accuracy at 0.9090909361839294\n",
      "Epoch 12, CIFAR-10 Batch 1:  Loss at 0.3970862925052643 Validation Accuracy at 0.8863636255264282\n",
      "Epoch 13, CIFAR-10 Batch 1:  Loss at 0.3547390401363373 Validation Accuracy at 0.9545454382896423\n",
      "Epoch 14, CIFAR-10 Batch 1:  Loss at 0.3241971433162689 Validation Accuracy at 0.9545454382896423\n",
      "Epoch 15, CIFAR-10 Batch 1:  Loss at 0.2933815121650696 Validation Accuracy at 0.9545454382896423\n",
      "Epoch 16, CIFAR-10 Batch 1:  Loss at 0.2755570411682129 Validation Accuracy at 0.9318181872367859\n",
      "Epoch 17, CIFAR-10 Batch 1:  Loss at 0.2525132894515991 Validation Accuracy at 0.9545454382896423\n",
      "Epoch 18, CIFAR-10 Batch 1:  Loss at 0.2248390018939972 Validation Accuracy at 0.9545454382896423\n",
      "Epoch 19, CIFAR-10 Batch 1:  Loss at 0.21513935923576355 Validation Accuracy at 0.9318181872367859\n",
      "Epoch 20, CIFAR-10 Batch 1:  Loss at 0.18299388885498047 Validation Accuracy at 0.9545454382896423\n",
      "Epoch 21, CIFAR-10 Batch 1:  Loss at 0.17003965377807617 Validation Accuracy at 0.9545454382896423\n",
      "Epoch 22, CIFAR-10 Batch 1:  Loss at 0.16697487235069275 Validation Accuracy at 0.9318181872367859\n",
      "Epoch 23, CIFAR-10 Batch 1:  Loss at 0.12026223540306091 Validation Accuracy at 0.9545454382896423\n",
      "Epoch 24, CIFAR-10 Batch 1:  Loss at 0.09785829484462738 Validation Accuracy at 0.9545454382896423\n",
      "Epoch 25, CIFAR-10 Batch 1:  Loss at 0.08315597474575043 Validation Accuracy at 0.9545454382896423\n",
      "Epoch 26, CIFAR-10 Batch 1:  Loss at 0.07099586725234985 Validation Accuracy at 0.9545454382896423\n",
      "Epoch 27, CIFAR-10 Batch 1:  Loss at 0.06043460592627525 Validation Accuracy at 0.9545454382896423\n",
      "Epoch 28, CIFAR-10 Batch 1:  Loss at 0.050678402185440063 Validation Accuracy at 0.9545454382896423\n",
      "Epoch 29, CIFAR-10 Batch 1:  Loss at 0.04406125470995903 Validation Accuracy at 0.9545454382896423\n",
      "Epoch 30, CIFAR-10 Batch 1:  Loss at 0.03886505588889122 Validation Accuracy at 0.9545454382896423\n",
      "Epoch 31, CIFAR-10 Batch 1:  Loss at 0.036348797380924225 Validation Accuracy at 0.9545454382896423\n",
      "Epoch 32, CIFAR-10 Batch 1:  Loss at 0.03516396880149841 Validation Accuracy at 0.9545454382896423\n",
      "Epoch 33, CIFAR-10 Batch 1:  Loss at 0.034291598945856094 Validation Accuracy at 0.9545454382896423\n",
      "Epoch 34, CIFAR-10 Batch 1:  Loss at 0.032471589744091034 Validation Accuracy at 0.9545454382896423\n",
      "Epoch 35, CIFAR-10 Batch 1:  Loss at 0.025267725810408592 Validation Accuracy at 0.9545454382896423\n",
      "Epoch 36, CIFAR-10 Batch 1:  Loss at 0.01834295131266117 Validation Accuracy at 0.9545454382896423\n",
      "Epoch 37, CIFAR-10 Batch 1:  Loss at 0.014303067699074745 Validation Accuracy at 0.9545454382896423\n",
      "Epoch 38, CIFAR-10 Batch 1:  Loss at 0.01123939361423254 Validation Accuracy at 0.9545454382896423\n",
      "Epoch 39, CIFAR-10 Batch 1:  Loss at 0.010605301707983017 Validation Accuracy at 0.9545454382896423\n",
      "Epoch 40, CIFAR-10 Batch 1:  Loss at 0.007478250190615654 Validation Accuracy at 0.9545454382896423\n",
      "Epoch 41, CIFAR-10 Batch 1:  Loss at 0.00559915229678154 Validation Accuracy at 0.9545454382896423\n",
      "Epoch 42, CIFAR-10 Batch 1:  Loss at 0.005956882610917091 Validation Accuracy at 0.9545454382896423\n",
      "Epoch 43, CIFAR-10 Batch 1:  Loss at 0.0045290738344192505 Validation Accuracy at 0.9545454382896423\n",
      "Epoch 44, CIFAR-10 Batch 1:  Loss at 0.0031299814581871033 Validation Accuracy at 0.9545454382896423\n",
      "Epoch 45, CIFAR-10 Batch 1:  Loss at 0.003926997538655996 Validation Accuracy at 0.9545454382896423\n",
      "Epoch 46, CIFAR-10 Batch 1:  Loss at 0.004085836932063103 Validation Accuracy at 0.9545454382896423\n",
      "Epoch 47, CIFAR-10 Batch 1:  Loss at 0.002360214479267597 Validation Accuracy at 0.9545454382896423\n",
      "Epoch 48, CIFAR-10 Batch 1:  Loss at 0.002259391825646162 Validation Accuracy at 0.9545454382896423\n",
      "Epoch 49, CIFAR-10 Batch 1:  Loss at 0.002944720908999443 Validation Accuracy at 0.9545454382896423\n",
      "Epoch 50, CIFAR-10 Batch 1:  Loss at 0.0025436747819185257 Validation Accuracy at 0.9545454382896423\n"
     ]
    }
   ],
   "source": [
    "save_model_path = './image_classification'\n",
    "\n",
    "print('Training...')\n",
    "with tf.Session() as sess:\n",
    "    # Initializing the variables\n",
    "    sess.run(tf.global_variables_initializer())\n",
    "    \n",
    "    # Training cycle\n",
    "    for epoch in range(epochs):\n",
    "        # Loop over all batches\n",
    "        n_batches = 5\n",
    "        batch_i = 1\n",
    "        batch_features, batch_labels = get_batches(batch_size)\n",
    "        train_neural_network(sess, optimizer, keep_probability, batch_features, batch_labels)\n",
    "        print('Epoch {:>2}, witt-model-classifier Batch {}:  '.format(epoch + 1, batch_i), end='')\n",
    "        print_stats(sess, batch_features, batch_labels, cost, accuracy)\n",
    "            \n",
    "    # Save Model\n",
    "    saver = tf.train.Saver()\n",
    "    save_path = saver.save(sess, save_model_path)"
   ]
  },
  {
   "cell_type": "code",
   "execution_count": 463,
   "metadata": {
    "collapsed": true
   },
   "outputs": [],
   "source": [
    "def display_image_predictions(features, labels, predictions):\n",
    "    n_classes = nr_of_labels\n",
    "    label_names = [0,1]\n",
    "    label_binarizer = LabelBinarizer()\n",
    "    label_binarizer.fit(range(n_classes))\n",
    "    label_ids = label_binarizer.inverse_transform(np.array(labels))\n",
    "\n",
    "    nr_of_test_images = len(labels)\n",
    "    fig, axies = plt.subplots(nrows=nr_of_test_images, ncols=2)\n",
    "    fig.tight_layout()\n",
    "    fig.suptitle('Softmax Predictions', fontsize=20, y=1.1)\n",
    "\n",
    "    n_predictions = 2\n",
    "    margin = 0.05\n",
    "    ind = np.arange(n_predictions)\n",
    "    width = (1. - 2. * margin) / n_predictions\n",
    "\n",
    "    for image_i, (feature, label_id, pred_indicies, pred_values) in enumerate(zip(features, label_ids, predictions.indices, predictions.values)):\n",
    "        pred_names = [label_names[pred_i] for pred_i in pred_indicies]\n",
    "        correct_name = label_names[label_id]\n",
    "\n",
    "        axies[image_i][0].imshow(feature)\n",
    "        axies[image_i][0].set_title(correct_name)\n",
    "        axies[image_i][0].set_axis_off()\n",
    "\n",
    "        axies[image_i][1].barh(ind + margin, pred_values[::-1], width)\n",
    "        axies[image_i][1].set_yticks(ind + margin)\n",
    "        axies[image_i][1].set_yticklabels(pred_names[::-1])\n",
    "        axies[image_i][1].set_xticks([0, 0.5, 1.0])"
   ]
  },
  {
   "cell_type": "code",
   "execution_count": 476,
   "metadata": {},
   "outputs": [
    {
     "name": "stdout",
     "output_type": "stream",
     "text": [
      "INFO:tensorflow:Restoring parameters from ./image_classification\n",
      "Testing Accuracy: 0.9545454382896423\n",
      "\n",
      "44\n"
     ]
    },
    {
     "data": {
      "image/png": "[encoded data removed]",
      "text/plain": [
       "<matplotlib.figure.Figure at 0x1f3288cea20>"
      ]
     },
     "metadata": {
      "image/png": {
       "height": 319,
       "width": 349
      }
     },
     "output_type": "display_data"
    }
   ],
   "source": [
    "%matplotlib inline\n",
    "%config InlineBackend.figure_format = 'retina'\n",
    "\n",
    "import tensorflow as tf\n",
    "import pickle\n",
    "#import helper\n",
    "import random\n",
    "\n",
    "# Set batch size if not already set\n",
    "try:\n",
    "    if batch_size:\n",
    "        pass\n",
    "except NameError:\n",
    "    batch_size = 64\n",
    "\n",
    "save_model_path = './image_classification'\n",
    "n_samples = 4\n",
    "top_n_predictions = 2\n",
    "\n",
    "def test_model():\n",
    "    \"\"\"\n",
    "    Test the saved model against the test dataset\n",
    "    \"\"\"\n",
    "\n",
    "    test_features, test_labels = valid_features, valid_labels\n",
    "    loaded_graph = tf.Graph()\n",
    "\n",
    "    with tf.Session(graph=loaded_graph) as sess:\n",
    "        # Load model\n",
    "        loader = tf.train.import_meta_graph(save_model_path + '.meta')\n",
    "        loader.restore(sess, save_model_path)\n",
    "\n",
    "        # Get Tensors from loaded model\n",
    "        loaded_x = loaded_graph.get_tensor_by_name('x:0')\n",
    "        loaded_y = loaded_graph.get_tensor_by_name('y:0')\n",
    "        loaded_keep_prob = loaded_graph.get_tensor_by_name('keep_prob:0')\n",
    "        loaded_logits = loaded_graph.get_tensor_by_name('logits:0')\n",
    "        loaded_acc = loaded_graph.get_tensor_by_name('accuracy:0')\n",
    "        \n",
    "        # Get accuracy in batches for memory limitations\n",
    "        test_batch_acc_total = 0\n",
    "        test_batch_count = 0\n",
    "        \n",
    "        train_feature_batch, train_label_batch = test_features, test_labels\n",
    "        test_batch_acc_total += sess.run(\n",
    "            loaded_acc,\n",
    "            feed_dict={loaded_x: train_feature_batch, loaded_y: train_label_batch, loaded_keep_prob: 1.0})\n",
    "        test_batch_count += 1\n",
    "\n",
    "        print('Testing Accuracy: {}\\n'.format(test_batch_acc_total/test_batch_count))\n",
    "        print(len(test_features))\n",
    "        # Print Random Samples\n",
    "        random_test_features, random_test_labels = tuple(zip(*random.sample(list(zip(test_features, test_labels)), n_samples)))\n",
    "        random_test_predictions = sess.run(\n",
    "            tf.nn.top_k(tf.nn.softmax(loaded_logits), top_n_predictions),\n",
    "            feed_dict={loaded_x: random_test_features, loaded_y: random_test_labels, loaded_keep_prob: 1.0})\n",
    "        display_image_predictions(random_test_features, random_test_labels, random_test_predictions)\n",
    "\n",
    "\n",
    "test_model()"
   ]
  },
  {
   "cell_type": "code",
   "execution_count": 403,
   "metadata": {},
   "outputs": [
    {
     "data": {
      "text/plain": [
       "<matplotlib.image.AxesImage at 0x1f331549f28>"
      ]
     },
     "execution_count": 403,
     "metadata": {},
     "output_type": "execute_result"
    },
    {
     "data": {
      "image/png": "[encoded data removed]",
      "text/plain": [
       "<matplotlib.figure.Figure at 0x1f331075438>"
      ]
     },
     "metadata": {
      "image/png": {
       "height": 250,
       "width": 253
      }
     },
     "output_type": "display_data"
    }
   ],
   "source": [
    "%matplotlib inline\n",
    "%config InlineBackend.figure_format = 'retina'\n",
    "\n",
    "plt.imshow(batch_features[3,]) \n"
   ]
  },
  {
   "cell_type": "code",
   "execution_count": 78,
   "metadata": {},
   "outputs": [
    {
     "data": {
      "text/plain": [
       "(1007, 1)"
      ]
     },
     "execution_count": 78,
     "metadata": {},
     "output_type": "execute_result"
    }
   ],
   "source": [
    "np.shape(labels)"
   ]
  }
 ],
 "metadata": {
  "kernelspec": {
   "display_name": "Python 3",
   "language": "python",
   "name": "python3"
  },
  "language_info": {
   "codemirror_mode": {
    "name": "ipython",
    "version": 3
   },
   "file_extension": ".py",
   "mimetype": "text/x-python",
   "name": "python",
   "nbconvert_exporter": "python",
   "pygments_lexer": "ipython3",
   "version": "3.5.3"
  }
 },
 "nbformat": 4,
 "nbformat_minor": 2
}
