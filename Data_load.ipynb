{
 "cells": [
  {
   "cell_type": "code",
   "execution_count": 19,
   "metadata": {
    "collapsed": true
   },
   "outputs": [],
   "source": [
    "import os\n",
    "\n",
    "from PIL import Image\n",
    "import numpy as np\n",
    "import matplotlib.pyplot as plt\n",
    "#Directory containing images you wish to convert\n",
    "input_dir = 'C:/Users/Martin/Untitled Folder 1/Raw_images/'\n",
    "\n",
    "directories = os.listdir(input_dir)\n",
    "\n"
   ]
  },
  {
   "cell_type": "code",
   "execution_count": 52,
   "metadata": {},
   "outputs": [
    {
     "name": "stdout",
     "output_type": "stream",
     "text": [
      "Shirts\n",
      "1\n"
     ]
    },
    {
     "data": {
      "image/png": "[encoded data removed]",
      "text/plain": [
       "<matplotlib.figure.Figure at 0x2a1bd455dd8>"
      ]
     },
     "metadata": {
      "image/png": {
       "height": 250,
       "width": 253
      }
     },
     "output_type": "display_data"
    }
   ],
   "source": [
    "\n",
    "index = 0\n",
    "index2 = 0\n",
    "basewidth = 32\n",
    "\n",
    "#wpercent = (basewidth / float(img.size[0]))\n",
    "hsize = 32#int((float(img.size[1]) * float(wpercent)))\n",
    "\n",
    "for folder in directories:\n",
    "\t#Ignoring .DS_Store dir\n",
    "\tif folder == '.DS_Store':\n",
    "\t\tpass\n",
    "\n",
    "\telse:\n",
    "\t\tprint(folder)\n",
    "\n",
    "\t\tfolder2 = os.listdir(input_dir + '/' + folder)\n",
    "\t\tindex += 1\n",
    "\n",
    "\t\tfor image in folder2:\n",
    "\t\t\tif image == \".DS_Store\":\n",
    "\t\t\t\tpass\n",
    "\n",
    "\t\t\telse:\n",
    "\t\t\t\tindex2 += 1\n",
    "\n",
    "\t\t\t\tim = Image.open(input_dir+\"/\"+folder+\"/\"+image) #Opening image\n",
    "\t\t\t\tim = im.resize((basewidth, hsize), Image.ANTIALIAS)\n",
    "\t\t\t\tim = (np.array(im)) #Converting to numpy array\n",
    "\t\t\t\tplt.imshow(im)                \n",
    "\t\t\t\ttry:\n",
    "\t\t\t\t\tr = im[:,:,0] #Slicing to get R data\n",
    "\t\t\t\t\tg = im[:,:,1] #Slicing to get G data\n",
    "\t\t\t\t\tb = im[:,:,2] #Slicing to get B data\n",
    "\n",
    "\t\t\t\t\tif index2 != 1:\n",
    "\t\t\t\t\t\tnew_array = np.array([[r] + [g] + [b]], np.uint8) #Creating array with shape (3, 100, 100)\n",
    "\t\t\t\t\t\tout = np.append(out, new_array, 0) #Adding new image to array shape of (x, 3, 100, 100) where x is image number\n",
    "\n",
    "\t\t\t\t\telif index2 == 1:\n",
    "\t\t\t\t\t\tout = np.array([[r] + [g] + [b]], np.uint8) #Creating array with shape (3, 100, 100)\n",
    "\n",
    "\t\t\t\t\tif index == 1 and index2 == 1:\n",
    "\t\t\t\t\t\tindex_array = np.array([[index]])\n",
    "\n",
    "\t\t\t\t\telse:\n",
    "\t\t\t\t\t\tnew_index_array = np.array([[index]], np.int8)\n",
    "\t\t\t\t\t\tindex_array = np.append(index_array, new_index_array, 0)\n",
    "\n",
    "\t\t\t\texcept Exception as e:\n",
    "\t\t\t\t\tprint(e)\n",
    "\t\t\t\t\tprint( \"Removing image\" + image)\n",
    "\t\t\t\t\tos.remove(input_dir+\"/\"+folder+\"/\"+image)\n",
    "\n",
    "print(index)\n",
    "\n",
    "np.save('X_train.npy', out) #Saving train image arrays\n",
    "np.save('Y_train.npy', index_array) #Saving train labels\n",
    "\n"
   ]
  },
  {
   "cell_type": "code",
   "execution_count": null,
   "metadata": {
    "collapsed": true
   },
   "outputs": [],
   "source": []
  },
  {
   "cell_type": "code",
   "execution_count": 49,
   "metadata": {},
   "outputs": [
    {
     "data": {
      "text/plain": [
       "100"
      ]
     },
     "execution_count": 49,
     "metadata": {},
     "output_type": "execute_result"
    }
   ],
   "source": [
    "len(out)"
   ]
  },
  {
   "cell_type": "code",
   "execution_count": 59,
   "metadata": {},
   "outputs": [
    {
     "data": {
      "text/plain": [
       "(100, 3, 32, 32)"
      ]
     },
     "execution_count": 59,
     "metadata": {},
     "output_type": "execute_result"
    }
   ],
   "source": [
    "#erstes anzeigen\n",
    "np.shape(out)"
   ]
  },
  {
   "cell_type": "code",
   "execution_count": null,
   "metadata": {
    "collapsed": true
   },
   "outputs": [],
   "source": []
  },
  {
   "cell_type": "code",
   "execution_count": 51,
   "metadata": {},
   "outputs": [
    {
     "data": {
      "text/plain": [
       "<matplotlib.image.AxesImage at 0x2a1bf12d0b8>"
      ]
     },
     "execution_count": 51,
     "metadata": {},
     "output_type": "execute_result"
    },
    {
     "data": {
      "image/png": "[encoded data removed]",
      "text/plain": [
       "<matplotlib.figure.Figure at 0x2a1bf4d3b70>"
      ]
     },
     "metadata": {
      "image/png": {
       "height": 250,
       "width": 253
      }
     },
     "output_type": "display_data"
    }
   ],
   "source": [
    "%matplotlib inline\n",
    "%config InlineBackend.figure_format = 'retina'\n",
    "\n",
    "plt.imshow(out[0,0])"
   ]
  },
  {
   "cell_type": "code",
   "execution_count": 44,
   "metadata": {
    "collapsed": true
   },
   "outputs": [],
   "source": [
    "basewidth = 32\n",
    "img = Image.open(input_dir + '/' + 'Shirts/' + '1050.jpg')\n",
    "#wpercent = (basewidth / float(img.size[0]))\n",
    "hsize = 32#int((float(img.size[1]) * float(wpercent)))\n",
    "img = img.resize((basewidth, hsize), Image.ANTIALIAS)\n"
   ]
  },
  {
   "cell_type": "code",
   "execution_count": 56,
   "metadata": {
    "collapsed": true
   },
   "outputs": [],
   "source": [
    "import pickle\n",
    "import numpy as np\n",
    "import matplotlib.pyplot as plt\n",
    "from sklearn.preprocessing import LabelBinarizer\n",
    "cifar10_dataset_folder_path = 'cifar-10-batches-py'"
   ]
  },
  {
   "cell_type": "code",
   "execution_count": 58,
   "metadata": {},
   "outputs": [
    {
     "ename": "NameError",
     "evalue": "name 'batch_id' is not defined",
     "output_type": "error",
     "traceback": [
      "\u001b[1;31m---------------------------------------------------------------------------\u001b[0m",
      "\u001b[1;31mNameError\u001b[0m                                 Traceback (most recent call last)",
      "\u001b[1;32m<ipython-input-58-5b64280b521a>\u001b[0m in \u001b[0;36m<module>\u001b[1;34m()\u001b[0m\n\u001b[1;32m----> 1\u001b[1;33m \u001b[1;32mwith\u001b[0m \u001b[0mopen\u001b[0m\u001b[1;33m(\u001b[0m\u001b[0mcifar10_dataset_folder_path\u001b[0m \u001b[1;33m+\u001b[0m \u001b[1;34m'/data_batch_'\u001b[0m \u001b[1;33m+\u001b[0m \u001b[0mstr\u001b[0m\u001b[1;33m(\u001b[0m\u001b[0mbatch_id\u001b[0m\u001b[1;33m)\u001b[0m\u001b[1;33m,\u001b[0m \u001b[0mmode\u001b[0m\u001b[1;33m=\u001b[0m\u001b[1;34m'rb'\u001b[0m\u001b[1;33m)\u001b[0m \u001b[1;32mas\u001b[0m \u001b[0mfile\u001b[0m\u001b[1;33m:\u001b[0m\u001b[1;33m\u001b[0m\u001b[0m\n\u001b[0m\u001b[0;32m      2\u001b[0m     \u001b[0mbatch\u001b[0m \u001b[1;33m=\u001b[0m \u001b[0mpickle\u001b[0m\u001b[1;33m.\u001b[0m\u001b[0mload\u001b[0m\u001b[1;33m(\u001b[0m\u001b[0mfile\u001b[0m\u001b[1;33m,\u001b[0m \u001b[0mencoding\u001b[0m\u001b[1;33m=\u001b[0m\u001b[1;34m'latin1'\u001b[0m\u001b[1;33m)\u001b[0m\u001b[1;33m\u001b[0m\u001b[0m\n\u001b[0;32m      3\u001b[0m \u001b[1;33m\u001b[0m\u001b[0m\n\u001b[0;32m      4\u001b[0m \u001b[0mfeatures\u001b[0m \u001b[1;33m=\u001b[0m \u001b[0mbatch\u001b[0m\u001b[1;33m[\u001b[0m\u001b[1;34m'data'\u001b[0m\u001b[1;33m]\u001b[0m\u001b[1;33m.\u001b[0m\u001b[0mreshape\u001b[0m\u001b[1;33m(\u001b[0m\u001b[1;33m(\u001b[0m\u001b[0mlen\u001b[0m\u001b[1;33m(\u001b[0m\u001b[0mbatch\u001b[0m\u001b[1;33m[\u001b[0m\u001b[1;34m'data'\u001b[0m\u001b[1;33m]\u001b[0m\u001b[1;33m)\u001b[0m\u001b[1;33m,\u001b[0m \u001b[1;36m3\u001b[0m\u001b[1;33m,\u001b[0m \u001b[1;36m32\u001b[0m\u001b[1;33m,\u001b[0m \u001b[1;36m32\u001b[0m\u001b[1;33m)\u001b[0m\u001b[1;33m)\u001b[0m\u001b[1;33m.\u001b[0m\u001b[0mtranspose\u001b[0m\u001b[1;33m(\u001b[0m\u001b[1;36m0\u001b[0m\u001b[1;33m,\u001b[0m \u001b[1;36m2\u001b[0m\u001b[1;33m,\u001b[0m \u001b[1;36m3\u001b[0m\u001b[1;33m,\u001b[0m \u001b[1;36m1\u001b[0m\u001b[1;33m)\u001b[0m\u001b[1;33m\u001b[0m\u001b[0m\n\u001b[0;32m      5\u001b[0m \u001b[0mlabels\u001b[0m \u001b[1;33m=\u001b[0m \u001b[0mbatch\u001b[0m\u001b[1;33m[\u001b[0m\u001b[1;34m'labels'\u001b[0m\u001b[1;33m]\u001b[0m\u001b[1;33m\u001b[0m\u001b[0m\n",
      "\u001b[1;31mNameError\u001b[0m: name 'batch_id' is not defined"
     ]
    }
   ],
   "source": [
    "with open(cifar10_dataset_folder_path + '/data_batch_' + str(batch_id), mode='rb') as file:\n",
    "    batch = pickle.load(file, encoding='latin1')\n",
    "\n",
    "features = batch['data'].reshape((len(batch['data']), 3, 32, 32)).transpose(0, 2, 3, 1)\n",
    "labels = batch['labels']"
   ]
  },
  {
   "cell_type": "code",
   "execution_count": 2,
   "metadata": {
    "collapsed": true
   },
   "outputs": [],
   "source": [
    "#load images with url\n",
    "import pandas as pd\n",
    "\n",
    "witt_url = pd.read_csv('C:/Users/Martin/Downloads/wittweidende_bilder-feedmartinde.csv', sep='|')"
   ]
  },
  {
   "cell_type": "code",
   "execution_count": 65,
   "metadata": {},
   "outputs": [
    {
     "data": {
      "text/html": [
       "<div>\n",
       "<style>\n",
       "    .dataframe thead tr:only-child th {\n",
       "        text-align: right;\n",
       "    }\n",
       "\n",
       "    .dataframe thead th {\n",
       "        text-align: left;\n",
       "    }\n",
       "\n",
       "    .dataframe tbody tr th {\n",
       "        vertical-align: top;\n",
       "    }\n",
       "</style>\n",
       "<table border=\"1\" class=\"dataframe\">\n",
       "  <thead>\n",
       "    <tr style=\"text-align: right;\">\n",
       "      <th></th>\n",
       "      <th>Artikel_ID</th>\n",
       "      <th>Bilder 1</th>\n",
       "      <th>Bilder 2</th>\n",
       "      <th>Bilder 3</th>\n",
       "      <th>Bilder 4</th>\n",
       "      <th>Artnr6</th>\n",
       "    </tr>\n",
       "  </thead>\n",
       "  <tbody>\n",
       "    <tr>\n",
       "      <th>0</th>\n",
       "      <td>http://click.cptrack.de/?rd=true&amp;k=YXOl0QS1rzv...</td>\n",
       "      <td>http://www.witt-weiden.de/images/shop/003/003....</td>\n",
       "      <td>http://www.witt-weiden.de/images/shop/003/003....</td>\n",
       "      <td>http://www.witt-weiden.de/images/shop/003/003....</td>\n",
       "      <td>NaN</td>\n",
       "      <td>100009</td>\n",
       "    </tr>\n",
       "    <tr>\n",
       "      <th>1</th>\n",
       "      <td>http://click.cptrack.de/?rd=true&amp;k=K-CDhOLhsZq...</td>\n",
       "      <td>http://www.witt-weiden.de/images/shop/003/003....</td>\n",
       "      <td>http://www.witt-weiden.de/images/shop/003/003....</td>\n",
       "      <td>http://www.witt-weiden.de/images/shop/003/003....</td>\n",
       "      <td>NaN</td>\n",
       "      <td>100009</td>\n",
       "    </tr>\n",
       "    <tr>\n",
       "      <th>2</th>\n",
       "      <td>http://click.cptrack.de/?rd=true&amp;k=a3XxikQQalI...</td>\n",
       "      <td>http://www.witt-weiden.de/images/shop/003/003....</td>\n",
       "      <td>http://www.witt-weiden.de/images/shop/003/003....</td>\n",
       "      <td>http://www.witt-weiden.de/images/shop/003/003....</td>\n",
       "      <td>NaN</td>\n",
       "      <td>100009</td>\n",
       "    </tr>\n",
       "    <tr>\n",
       "      <th>3</th>\n",
       "      <td>http://click.cptrack.de/?rd=true&amp;k=gw4zboV0IOh...</td>\n",
       "      <td>http://www.witt-weiden.de/images/shop/003/003....</td>\n",
       "      <td>http://www.witt-weiden.de/images/shop/003/003....</td>\n",
       "      <td>http://www.witt-weiden.de/images/shop/003/003....</td>\n",
       "      <td>NaN</td>\n",
       "      <td>100009</td>\n",
       "    </tr>\n",
       "    <tr>\n",
       "      <th>4</th>\n",
       "      <td>http://click.cptrack.de/?rd=true&amp;k=k3wgYCh-qtp...</td>\n",
       "      <td>http://www.witt-weiden.de/images/shop/003/003....</td>\n",
       "      <td>http://www.witt-weiden.de/images/shop/003/003....</td>\n",
       "      <td>http://www.witt-weiden.de/images/shop/003/003....</td>\n",
       "      <td>NaN</td>\n",
       "      <td>100009</td>\n",
       "    </tr>\n",
       "  </tbody>\n",
       "</table>\n",
       "</div>"
      ],
      "text/plain": [
       "                                          Artikel_ID  \\\n",
       "0  http://click.cptrack.de/?rd=true&k=YXOl0QS1rzv...   \n",
       "1  http://click.cptrack.de/?rd=true&k=K-CDhOLhsZq...   \n",
       "2  http://click.cptrack.de/?rd=true&k=a3XxikQQalI...   \n",
       "3  http://click.cptrack.de/?rd=true&k=gw4zboV0IOh...   \n",
       "4  http://click.cptrack.de/?rd=true&k=k3wgYCh-qtp...   \n",
       "\n",
       "                                            Bilder 1  \\\n",
       "0  http://www.witt-weiden.de/images/shop/003/003....   \n",
       "1  http://www.witt-weiden.de/images/shop/003/003....   \n",
       "2  http://www.witt-weiden.de/images/shop/003/003....   \n",
       "3  http://www.witt-weiden.de/images/shop/003/003....   \n",
       "4  http://www.witt-weiden.de/images/shop/003/003....   \n",
       "\n",
       "                                            Bilder 2  \\\n",
       "0  http://www.witt-weiden.de/images/shop/003/003....   \n",
       "1  http://www.witt-weiden.de/images/shop/003/003....   \n",
       "2  http://www.witt-weiden.de/images/shop/003/003....   \n",
       "3  http://www.witt-weiden.de/images/shop/003/003....   \n",
       "4  http://www.witt-weiden.de/images/shop/003/003....   \n",
       "\n",
       "                                            Bilder 3 Bilder 4  Artnr6  \n",
       "0  http://www.witt-weiden.de/images/shop/003/003....      NaN  100009  \n",
       "1  http://www.witt-weiden.de/images/shop/003/003....      NaN  100009  \n",
       "2  http://www.witt-weiden.de/images/shop/003/003....      NaN  100009  \n",
       "3  http://www.witt-weiden.de/images/shop/003/003....      NaN  100009  \n",
       "4  http://www.witt-weiden.de/images/shop/003/003....      NaN  100009  "
      ]
     },
     "execution_count": 65,
     "metadata": {},
     "output_type": "execute_result"
    }
   ],
   "source": [
    "witt_url.head()"
   ]
  },
  {
   "cell_type": "code",
   "execution_count": 43,
   "metadata": {
    "collapsed": true
   },
   "outputs": [],
   "source": [
    "grouped_df = witt_url.groupby('Artnr6')[ 'Bilder 1', 'Bilder 2'].first().reset_index()"
   ]
  },
  {
   "cell_type": "code",
   "execution_count": 44,
   "metadata": {},
   "outputs": [
    {
     "data": {
      "text/plain": [
       "['Artnr6', 'Bilder 1', 'Bilder 2']"
      ]
     },
     "execution_count": 44,
     "metadata": {},
     "output_type": "execute_result"
    }
   ],
   "source": [
    "list(grouped_df)\n",
    "#group_obj.groups.keys()"
   ]
  },
  {
   "cell_type": "code",
   "execution_count": 45,
   "metadata": {
    "collapsed": true
   },
   "outputs": [],
   "source": [
    "import os\n",
    "import urllib.request\n",
    "\n",
    "for i in range(1000):\n",
    "    fullfilename = os.path.join('C:/Users/Martin/Untitled Folder 1/Raw_images', str(grouped_df['Artnr6'][i])+'.jpg')\n",
    "    urllib.request.urlretrieve(grouped_df['Bilder 1'][i], fullfilename)\n",
    "\n",
    "\n",
    "\n",
    "#image = urllib.URLopener()\n",
    "#urllib.urlopen('http://www.gunnerkrigg.com//comics/00000001.jpg')\n",
    "#image.urlretrieve(witt_url['Bilder 1'][1], \"00000001.jpg\")"
   ]
  },
  {
   "cell_type": "code",
   "execution_count": 90,
   "metadata": {},
   "outputs": [
    {
     "data": {
      "text/plain": [
       "'100009.jpg'"
      ]
     },
     "execution_count": 90,
     "metadata": {},
     "output_type": "execute_result"
    }
   ],
   "source": [
    "str(witt_url['Artnr6'][1])+'.jpg'\n"
   ]
  },
  {
   "cell_type": "code",
   "execution_count": 9,
   "metadata": {},
   "outputs": [
    {
     "data": {
      "text/plain": [
       "'../Raw_images/100009.jpg'"
      ]
     },
     "execution_count": 9,
     "metadata": {},
     "output_type": "execute_result"
    }
   ],
   "source": [
    "fullfilename"
   ]
  }
 ],
 "metadata": {
  "kernelspec": {
   "display_name": "Python 3",
   "language": "python",
   "name": "python3"
  },
  "language_info": {
   "codemirror_mode": {
    "name": "ipython",
    "version": 3
   },
   "file_extension": ".py",
   "mimetype": "text/x-python",
   "name": "python",
   "nbconvert_exporter": "python",
   "pygments_lexer": "ipython3",
   "version": "3.5.3"
  }
 },
 "nbformat": 4,
 "nbformat_minor": 2
}
